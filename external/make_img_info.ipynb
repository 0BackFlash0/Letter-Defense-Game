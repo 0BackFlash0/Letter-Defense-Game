{
 "cells": [
  {
   "cell_type": "code",
   "execution_count": 1,
   "metadata": {},
   "outputs": [],
   "source": [
    "import json\n",
    "import os\n",
    "from PIL import Image"
   ]
  },
  {
   "cell_type": "code",
   "execution_count": 2,
   "metadata": {},
   "outputs": [],
   "source": [
    "img_infos = dict()"
   ]
  },
  {
   "cell_type": "code",
   "execution_count": 3,
   "metadata": {},
   "outputs": [],
   "source": [
    "path = \"../public/assets/Sprites/enemy\"\n",
    "files = os.listdir(path)\n",
    "\n",
    "tmp_dict = dict()\n",
    "for name in files:\n",
    "    file_name, _ = os.path.splitext(name)\n",
    "\n",
    "    im = Image.open(path+\"//\"+name)\n",
    "    tmp_dict[file_name] = {'frame_width' : int(im.width/4), 'frame_height' : int(im.height)}\n",
    "    \n",
    "img_infos['enemy'] = tmp_dict\n",
    "    "
   ]
  },
  {
   "cell_type": "code",
   "execution_count": 4,
   "metadata": {},
   "outputs": [],
   "source": [
    "path = \"../public/assets/Sprites/companion\"\n",
    "files = os.listdir(path)\n",
    "\n",
    "tmp_dict = dict()\n",
    "for name in files:\n",
    "    file_name, _ = os.path.splitext(name)\n",
    "\n",
    "    im = Image.open(path+\"//\"+name)\n",
    "    tmp_dict[file_name] = {'frame_width' : int(im.width/4), 'frame_height' : int(im.height/2)}\n",
    "    \n",
    "\n",
    "img_infos['companion'] = tmp_dict\n"
   ]
  },
  {
   "cell_type": "code",
   "execution_count": 5,
   "metadata": {},
   "outputs": [],
   "source": [
    "path = \"../public/assets/Sprites/button\"\n",
    "files = os.listdir(path)\n",
    "\n",
    "tmp_dict = dict()\n",
    "for name in files:\n",
    "    file_name, _ = os.path.splitext(name)\n",
    "\n",
    "    im = Image.open(path+\"//\"+name)\n",
    "    tmp_dict[file_name] = {'frame_width' : int(im.width/3), 'frame_height' : int(im.height)}\n",
    "    \n",
    "\n",
    "img_infos['button'] = tmp_dict\n",
    "    "
   ]
  },
  {
   "cell_type": "code",
   "execution_count": 6,
   "metadata": {},
   "outputs": [],
   "source": [
    "path = \"../public/assets/Sprites/heart\"\n",
    "files = os.listdir(path)\n",
    "\n",
    "tmp_dict = dict()\n",
    "for name in files:\n",
    "    file_name, _ = os.path.splitext(name)\n",
    "\n",
    "    im = Image.open(path+\"//\"+name)\n",
    "    if(\"Heal\" in file_name):\n",
    "        tmp_dict[file_name] = {'frame_width' : int(im.width/7), 'frame_height' : int(im.height)}\n",
    "    else:\n",
    "        tmp_dict[file_name] = {'frame_width' : int(im.width/6), 'frame_height' : int(im.height)}\n",
    "    \n",
    "img_infos['heart'] = tmp_dict"
   ]
  },
  {
   "cell_type": "code",
   "execution_count": 7,
   "metadata": {},
   "outputs": [],
   "source": [
    "path = \"../public/assets/Sprites/Player.png\"\n",
    "\n",
    "im = Image.open(path)\n",
    "img_infos['Player'] = {'frame_width' : int(im.width/5), 'frame_height' : int(im.height/5)}"
   ]
  },
  {
   "cell_type": "code",
   "execution_count": 8,
   "metadata": {},
   "outputs": [],
   "source": [
    "path = \"../public/assets/Sprites/Word Panel.png\"\n",
    "\n",
    "im = Image.open(path)\n",
    "img_infos['Word Panel'] = {'frame_width' : int(im.width/2), 'frame_height' : int(im.height)}"
   ]
  },
  {
   "cell_type": "code",
   "execution_count": 9,
   "metadata": {},
   "outputs": [],
   "source": [
    "path = \"../public/assets/Sprites/Long Button.png\"\n",
    "\n",
    "im = Image.open(path)\n",
    "img_infos['Long Button'] = {'frame_width' : int(im.width/2), 'frame_height' : int(im.height)}"
   ]
  },
  {
   "cell_type": "code",
   "execution_count": 10,
   "metadata": {},
   "outputs": [
    {
     "data": {
      "text/plain": [
       "{'enemy': {'Big Demon': {'frame_width': 32, 'frame_height': 36},\n",
       "  'Big Zombie': {'frame_width': 32, 'frame_height': 36},\n",
       "  'Chort': {'frame_width': 16, 'frame_height': 23},\n",
       "  'Goblin': {'frame_width': 16, 'frame_height': 16},\n",
       "  'Ice Zombie': {'frame_width': 16, 'frame_height': 16},\n",
       "  'Imp': {'frame_width': 16, 'frame_height': 16},\n",
       "  'Lizard': {'frame_width': 16, 'frame_height': 28},\n",
       "  'Mask Orc': {'frame_width': 16, 'frame_height': 23},\n",
       "  'Muddy': {'frame_width': 16, 'frame_height': 16},\n",
       "  'Ogre': {'frame_width': 32, 'frame_height': 36},\n",
       "  'Orc Shaman': {'frame_width': 16, 'frame_height': 23},\n",
       "  'Orc Warrior': {'frame_width': 16, 'frame_height': 23},\n",
       "  'Pumpkin Dude': {'frame_width': 16, 'frame_height': 23},\n",
       "  'Skeleton': {'frame_width': 16, 'frame_height': 16},\n",
       "  'Slug': {'frame_width': 16, 'frame_height': 23},\n",
       "  'Swampy': {'frame_width': 16, 'frame_height': 16},\n",
       "  'Tiny Slug': {'frame_width': 16, 'frame_height': 16}},\n",
       " 'companion': {'Angel': {'frame_width': 16, 'frame_height': 16},\n",
       "  'Elf': {'frame_width': 16, 'frame_height': 28},\n",
       "  'Knight': {'frame_width': 16, 'frame_height': 28},\n",
       "  'Wizard': {'frame_width': 16, 'frame_height': 28}},\n",
       " 'button': {'Book Button': {'frame_width': 18, 'frame_height': 18},\n",
       "  'Book Button_': {'frame_width': 18, 'frame_height': 18},\n",
       "  'Continue Button': {'frame_width': 22, 'frame_height': 22},\n",
       "  'Pause Button': {'frame_width': 22, 'frame_height': 22},\n",
       "  'Quit Button': {'frame_width': 22, 'frame_height': 22},\n",
       "  'Restart Button': {'frame_width': 22, 'frame_height': 22}},\n",
       " 'heart': {'Companion Heal': {'frame_width': 23, 'frame_height': 20},\n",
       "  'Enemy Hurt': {'frame_width': 23, 'frame_height': 20},\n",
       "  'Player Heal': {'frame_width': 23, 'frame_height': 20},\n",
       "  'Player Hurt': {'frame_width': 23, 'frame_height': 20}},\n",
       " 'Player': {'frame_width': 64, 'frame_height': 64},\n",
       " 'Word Panel': {'frame_width': 34, 'frame_height': 18},\n",
       " 'Long Button': {'frame_width': 242, 'frame_height': 82}}"
      ]
     },
     "execution_count": 10,
     "metadata": {},
     "output_type": "execute_result"
    }
   ],
   "source": [
    "img_infos"
   ]
  },
  {
   "cell_type": "code",
   "execution_count": 11,
   "metadata": {},
   "outputs": [],
   "source": [
    "with open('img_info.json', 'w') as f:\n",
    "    json.dump(img_infos, f)\n"
   ]
  }
 ],
 "metadata": {
  "kernelspec": {
   "display_name": "Python 3",
   "language": "python",
   "name": "python3"
  },
  "language_info": {
   "codemirror_mode": {
    "name": "ipython",
    "version": 3
   },
   "file_extension": ".py",
   "mimetype": "text/x-python",
   "name": "python",
   "nbconvert_exporter": "python",
   "pygments_lexer": "ipython3",
   "version": "3.9.13"
  }
 },
 "nbformat": 4,
 "nbformat_minor": 2
}
